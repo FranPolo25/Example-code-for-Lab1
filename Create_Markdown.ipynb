{
  "nbformat": 4,
  "nbformat_minor": 0,
  "metadata": {
    "colab": {
      "provenance": []
    },
    "kernelspec": {
      "name": "python3",
      "display_name": "Python 3"
    },
    "language_info": {
      "name": "python"
    }
  },
  "cells": [
    {
      "cell_type": "markdown",
      "source": [
        "#Create Markdown"
      ],
      "metadata": {
        "id": "ePMAaTjlSYiF"
      }
    },
    {
      "cell_type": "markdown",
      "source": [
        "##Ejemplo week 2 cursera "
      ],
      "metadata": {
        "id": "PZY9wFnhSgIq"
      }
    },
    {
      "cell_type": "code",
      "execution_count": 1,
      "metadata": {
        "colab": {
          "base_uri": "https://localhost:8080/"
        },
        "id": "16ulpt-tSSLv",
        "outputId": "efd21055-b107-4182-e655-f6d41d5de88e"
      },
      "outputs": [
        {
          "output_type": "stream",
          "name": "stdout",
          "text": [
            "hello world\n"
          ]
        }
      ],
      "source": [
        "# Imprimiendo hello \n",
        "print(\"hello world\")"
      ]
    }
  ]
}